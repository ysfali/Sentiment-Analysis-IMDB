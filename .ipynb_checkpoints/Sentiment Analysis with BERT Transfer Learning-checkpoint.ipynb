{
 "cells": [
  {
   "cell_type": "markdown",
   "metadata": {},
   "source": [
    "**Step 1: Load the IMDB Dataset of 50K Movie Reviews**"
   ]
  },
  {
   "cell_type": "code",
   "execution_count": 150,
   "metadata": {
    "execution": {
     "iopub.execute_input": "2021-11-17T15:33:31.850718Z",
     "iopub.status.busy": "2021-11-17T15:33:31.849812Z",
     "iopub.status.idle": "2021-11-17T15:33:33.386993Z",
     "shell.execute_reply": "2021-11-17T15:33:33.386280Z",
     "shell.execute_reply.started": "2021-11-17T15:33:31.850678Z"
    }
   },
   "outputs": [],
   "source": [
    "import pandas as pd\n",
    "df = pd.read_csv(\"../input/imdb-dataset-of-50k-movie-reviews/IMDB Dataset.csv\")\n",
    "df.head()"
   ]
  },
  {
   "cell_type": "markdown",
   "metadata": {},
   "source": [
    "Drop any duplicate entries from the dataset, keeping only the first entry"
   ]
  },
  {
   "cell_type": "code",
   "execution_count": 151,
   "metadata": {
    "execution": {
     "iopub.execute_input": "2021-11-17T15:33:52.608030Z",
     "iopub.status.busy": "2021-11-17T15:33:52.607405Z",
     "iopub.status.idle": "2021-11-17T15:33:52.784095Z",
     "shell.execute_reply": "2021-11-17T15:33:52.783407Z",
     "shell.execute_reply.started": "2021-11-17T15:33:52.607992Z"
    }
   },
   "outputs": [],
   "source": [
    "df = df.drop_duplicates(subset = ['review'], keep = 'first')\n",
    "df.head()"
   ]
  },
  {
   "cell_type": "markdown",
   "metadata": {},
   "source": [
    "Explore the Distribution of the classes in the dataset"
   ]
  },
  {
   "cell_type": "code",
   "execution_count": 152,
   "metadata": {
    "execution": {
     "iopub.execute_input": "2021-11-17T15:34:03.428367Z",
     "iopub.status.busy": "2021-11-17T15:34:03.428094Z",
     "iopub.status.idle": "2021-11-17T15:34:03.627545Z",
     "shell.execute_reply": "2021-11-17T15:34:03.626877Z",
     "shell.execute_reply.started": "2021-11-17T15:34:03.428335Z"
    }
   },
   "outputs": [],
   "source": [
    "df['sentiment'].value_counts().plot(kind = 'bar')"
   ]
  },
  {
   "cell_type": "code",
   "execution_count": 153,
   "metadata": {
    "execution": {
     "iopub.execute_input": "2021-11-17T15:34:11.949657Z",
     "iopub.status.busy": "2021-11-17T15:34:11.949086Z",
     "iopub.status.idle": "2021-11-17T15:34:11.956242Z",
     "shell.execute_reply": "2021-11-17T15:34:11.955452Z",
     "shell.execute_reply.started": "2021-11-17T15:34:11.949618Z"
    }
   },
   "outputs": [],
   "source": [
    "len(df)"
   ]
  },
  {
   "cell_type": "markdown",
   "metadata": {},
   "source": [
    "Explore the distribution of the length of reviews"
   ]
  },
  {
   "cell_type": "code",
   "execution_count": 154,
   "metadata": {
    "execution": {
     "iopub.execute_input": "2021-11-17T15:34:23.756445Z",
     "iopub.status.busy": "2021-11-17T15:34:23.756181Z",
     "iopub.status.idle": "2021-11-17T15:34:24.623917Z",
     "shell.execute_reply": "2021-11-17T15:34:24.623020Z",
     "shell.execute_reply.started": "2021-11-17T15:34:23.756413Z"
    }
   },
   "outputs": [],
   "source": [
    "seqlen = df['review'].apply(lambda x: len(x.split()))\n",
    "seqlen"
   ]
  },
  {
   "cell_type": "code",
   "execution_count": 155,
   "metadata": {
    "execution": {
     "iopub.execute_input": "2021-11-17T15:34:34.507666Z",
     "iopub.status.busy": "2021-11-17T15:34:34.507161Z",
     "iopub.status.idle": "2021-11-17T15:34:34.512009Z",
     "shell.execute_reply": "2021-11-17T15:34:34.510759Z",
     "shell.execute_reply.started": "2021-11-17T15:34:34.507624Z"
    }
   },
   "outputs": [],
   "source": [
    "import seaborn as sns\n",
    "import matplotlib.pyplot as plt"
   ]
  },
  {
   "cell_type": "code",
   "execution_count": 156,
   "metadata": {
    "execution": {
     "iopub.execute_input": "2021-11-17T15:34:36.751138Z",
     "iopub.status.busy": "2021-11-17T15:34:36.750874Z",
     "iopub.status.idle": "2021-11-17T15:34:37.399186Z",
     "shell.execute_reply": "2021-11-17T15:34:37.398362Z",
     "shell.execute_reply.started": "2021-11-17T15:34:36.751107Z"
    }
   },
   "outputs": [],
   "source": [
    "sns.set_style('darkgrid')\n",
    "plt.figure(figsize = (16, 10))\n",
    "sns.distplot(seqlen)"
   ]
  },
  {
   "cell_type": "code",
   "execution_count": 157,
   "metadata": {
    "execution": {
     "iopub.execute_input": "2021-11-17T15:34:56.036148Z",
     "iopub.status.busy": "2021-11-17T15:34:56.035433Z",
     "iopub.status.idle": "2021-11-17T15:34:56.040064Z",
     "shell.execute_reply": "2021-11-17T15:34:56.039256Z",
     "shell.execute_reply.started": "2021-11-17T15:34:56.036111Z"
    }
   },
   "outputs": [],
   "source": [
    "# Choosing our max_length of sequence as 512 to capture maximum amount of data\n",
    "SEQ_LEN = 512"
   ]
  },
  {
   "cell_type": "markdown",
   "metadata": {},
   "source": [
    "Now let's get to tokenizing our inputs"
   ]
  },
  {
   "cell_type": "code",
   "execution_count": 158,
   "metadata": {
    "execution": {
     "iopub.execute_input": "2021-11-17T15:34:59.346540Z",
     "iopub.status.busy": "2021-11-17T15:34:59.346257Z",
     "iopub.status.idle": "2021-11-17T15:35:04.964399Z",
     "shell.execute_reply": "2021-11-17T15:35:04.963661Z",
     "shell.execute_reply.started": "2021-11-17T15:34:59.346506Z"
    }
   },
   "outputs": [],
   "source": [
    "from transformers import AutoTokenizer\n",
    "tokenizer = AutoTokenizer.from_pretrained('bert-base-cased')"
   ]
  },
  {
   "cell_type": "code",
   "execution_count": 159,
   "metadata": {
    "execution": {
     "iopub.execute_input": "2021-11-17T15:35:04.966131Z",
     "iopub.status.busy": "2021-11-17T15:35:04.965873Z",
     "iopub.status.idle": "2021-11-17T15:35:04.976975Z",
     "shell.execute_reply": "2021-11-17T15:35:04.976244Z",
     "shell.execute_reply.started": "2021-11-17T15:35:04.966097Z"
    }
   },
   "outputs": [],
   "source": [
    "tokens = tokenizer.encode_plus(\"hello world\", max_length = SEQ_LEN, \n",
    "                               truncation = True, padding = 'max_length', \n",
    "                               add_special_tokens = True, return_token_type_ids = False, \n",
    "                               return_attention_mask = True, return_tensors = 'tf')\n",
    "tokens"
   ]
  },
  {
   "cell_type": "code",
   "execution_count": 160,
   "metadata": {
    "execution": {
     "iopub.execute_input": "2021-11-17T15:35:11.252216Z",
     "iopub.status.busy": "2021-11-17T15:35:11.251529Z",
     "iopub.status.idle": "2021-11-17T15:35:11.316899Z",
     "shell.execute_reply": "2021-11-17T15:35:11.316175Z",
     "shell.execute_reply.started": "2021-11-17T15:35:11.252177Z"
    }
   },
   "outputs": [],
   "source": [
    "Xids = np.zeros((len(df), SEQ_LEN))\n",
    "Xmask = np.zeros((len(df), SEQ_LEN))\n",
    "\n",
    "Xids.shape, Xmask.shape"
   ]
  },
  {
   "cell_type": "code",
   "execution_count": 162,
   "metadata": {
    "execution": {
     "iopub.execute_input": "2021-11-17T15:35:28.952109Z",
     "iopub.status.busy": "2021-11-17T15:35:28.951371Z",
     "iopub.status.idle": "2021-11-17T15:36:16.551614Z",
     "shell.execute_reply": "2021-11-17T15:36:16.550838Z",
     "shell.execute_reply.started": "2021-11-17T15:35:28.952069Z"
    }
   },
   "outputs": [],
   "source": [
    "for i, sequence in enumerate(df['review']):\n",
    "    tokens = tokenizer.encode_plus(sequence, max_length = SEQ_LEN, \n",
    "                               truncation = True, padding = 'max_length', \n",
    "                               add_special_tokens = True, return_token_type_ids = False, \n",
    "                               return_attention_mask = True, return_tensors = 'tf')\n",
    "    Xids[i, :], Xmask[i, :] = tokens['input_ids'], tokens['attention_mask']"
   ]
  },
  {
   "cell_type": "code",
   "execution_count": 163,
   "metadata": {
    "execution": {
     "iopub.execute_input": "2021-11-17T15:36:16.553698Z",
     "iopub.status.busy": "2021-11-17T15:36:16.553419Z",
     "iopub.status.idle": "2021-11-17T15:36:16.559644Z",
     "shell.execute_reply": "2021-11-17T15:36:16.558912Z",
     "shell.execute_reply.started": "2021-11-17T15:36:16.553660Z"
    }
   },
   "outputs": [],
   "source": [
    "Xids"
   ]
  },
  {
   "cell_type": "code",
   "execution_count": 164,
   "metadata": {
    "execution": {
     "iopub.execute_input": "2021-11-17T15:36:16.561669Z",
     "iopub.status.busy": "2021-11-17T15:36:16.561117Z",
     "iopub.status.idle": "2021-11-17T15:36:16.574015Z",
     "shell.execute_reply": "2021-11-17T15:36:16.573272Z",
     "shell.execute_reply.started": "2021-11-17T15:36:16.561627Z"
    }
   },
   "outputs": [],
   "source": [
    "Xmask"
   ]
  },
  {
   "cell_type": "code",
   "execution_count": 165,
   "metadata": {
    "execution": {
     "iopub.execute_input": "2021-11-17T15:38:24.710312Z",
     "iopub.status.busy": "2021-11-17T15:38:24.710012Z",
     "iopub.status.idle": "2021-11-17T15:38:24.727118Z",
     "shell.execute_reply": "2021-11-17T15:38:24.726290Z",
     "shell.execute_reply.started": "2021-11-17T15:38:24.710281Z"
    }
   },
   "outputs": [],
   "source": [
    "class_map = {\n",
    "    \"positive\": 0,\n",
    "    \"negative\": 1\n",
    "}\n",
    "df['Sentiment'] = df['sentiment'].map(class_map)\n",
    "arr = df['Sentiment'].values\n",
    "arr, arr.shape"
   ]
  },
  {
   "cell_type": "code",
   "execution_count": 166,
   "metadata": {
    "execution": {
     "iopub.execute_input": "2021-11-17T15:38:35.852333Z",
     "iopub.status.busy": "2021-11-17T15:38:35.851582Z",
     "iopub.status.idle": "2021-11-17T15:38:35.859126Z",
     "shell.execute_reply": "2021-11-17T15:38:35.858275Z",
     "shell.execute_reply.started": "2021-11-17T15:38:35.852294Z"
    }
   },
   "outputs": [],
   "source": [
    "labels = np.zeros((len(df), arr.max() + 1))\n",
    "labels.shape"
   ]
  },
  {
   "cell_type": "code",
   "execution_count": 167,
   "metadata": {
    "execution": {
     "iopub.execute_input": "2021-11-17T15:38:42.860843Z",
     "iopub.status.busy": "2021-11-17T15:38:42.860383Z",
     "iopub.status.idle": "2021-11-17T15:38:42.865020Z",
     "shell.execute_reply": "2021-11-17T15:38:42.864344Z",
     "shell.execute_reply.started": "2021-11-17T15:38:42.860806Z"
    }
   },
   "outputs": [],
   "source": [
    "labels[np.arange(len(df)), arr] = 1"
   ]
  },
  {
   "cell_type": "code",
   "execution_count": 168,
   "metadata": {
    "execution": {
     "iopub.execute_input": "2021-11-17T15:38:45.045987Z",
     "iopub.status.busy": "2021-11-17T15:38:45.045405Z",
     "iopub.status.idle": "2021-11-17T15:38:45.051261Z",
     "shell.execute_reply": "2021-11-17T15:38:45.050364Z",
     "shell.execute_reply.started": "2021-11-17T15:38:45.045951Z"
    }
   },
   "outputs": [],
   "source": [
    "labels"
   ]
  },
  {
   "cell_type": "markdown",
   "metadata": {},
   "source": [
    "Save the input_ids, mask and labels for reusability"
   ]
  },
  {
   "cell_type": "code",
   "execution_count": 169,
   "metadata": {
    "execution": {
     "iopub.execute_input": "2021-11-17T15:38:55.214315Z",
     "iopub.status.busy": "2021-11-17T15:38:55.214052Z",
     "iopub.status.idle": "2021-11-17T15:38:55.506286Z",
     "shell.execute_reply": "2021-11-17T15:38:55.505535Z",
     "shell.execute_reply.started": "2021-11-17T15:38:55.214286Z"
    }
   },
   "outputs": [],
   "source": [
    "import numpy as np\n",
    "with open('../working/movie-xids.npy', 'wb') as f:\n",
    "    np.save(f, Xids)\n",
    "with open('../working/movie-xmask.npy', 'wb') as f:\n",
    "    np.save(f, Xmask)\n",
    "with open('../working/movie-labels.npy', 'wb') as f:\n",
    "    np.save(f, labels)"
   ]
  },
  {
   "cell_type": "code",
   "execution_count": 170,
   "metadata": {
    "execution": {
     "iopub.execute_input": "2021-11-17T15:39:10.739199Z",
     "iopub.status.busy": "2021-11-17T15:39:10.738660Z",
     "iopub.status.idle": "2021-11-17T15:39:10.742610Z",
     "shell.execute_reply": "2021-11-17T15:39:10.741905Z",
     "shell.execute_reply.started": "2021-11-17T15:39:10.739158Z"
    }
   },
   "outputs": [],
   "source": [
    "del Xids, Xmask, labels"
   ]
  },
  {
   "cell_type": "markdown",
   "metadata": {},
   "source": [
    "**Step 2: Create Data Pipiline for Model Input**"
   ]
  },
  {
   "cell_type": "code",
   "execution_count": 171,
   "metadata": {
    "execution": {
     "iopub.execute_input": "2021-11-17T15:39:12.871442Z",
     "iopub.status.busy": "2021-11-17T15:39:12.870886Z",
     "iopub.status.idle": "2021-11-17T15:39:13.000531Z",
     "shell.execute_reply": "2021-11-17T15:39:12.999703Z",
     "shell.execute_reply.started": "2021-11-17T15:39:12.871404Z"
    }
   },
   "outputs": [],
   "source": [
    "import numpy as np\n",
    "\n",
    "with open('../working/movie-xids.npy', 'rb') as f:\n",
    "    xids = np.load(f, allow_pickle = True)\n",
    "with open('../working/movie-xmask.npy', 'rb') as f:\n",
    "    xmask = np.load(f, allow_pickle = True)\n",
    "with open('../working/movie-labels.npy', 'rb') as f:\n",
    "    labels = np.load(f, allow_pickle = True)"
   ]
  },
  {
   "cell_type": "code",
   "execution_count": 173,
   "metadata": {
    "execution": {
     "iopub.execute_input": "2021-11-17T15:39:32.140760Z",
     "iopub.status.busy": "2021-11-17T15:39:32.140431Z",
     "iopub.status.idle": "2021-11-17T15:39:32.147809Z",
     "shell.execute_reply": "2021-11-17T15:39:32.146714Z",
     "shell.execute_reply.started": "2021-11-17T15:39:32.140727Z"
    }
   },
   "outputs": [],
   "source": [
    "labels"
   ]
  },
  {
   "cell_type": "code",
   "execution_count": 174,
   "metadata": {
    "execution": {
     "iopub.execute_input": "2021-11-17T15:39:40.298039Z",
     "iopub.status.busy": "2021-11-17T15:39:40.297403Z",
     "iopub.status.idle": "2021-11-17T15:39:40.303841Z",
     "shell.execute_reply": "2021-11-17T15:39:40.302987Z",
     "shell.execute_reply.started": "2021-11-17T15:39:40.297999Z"
    }
   },
   "outputs": [],
   "source": [
    "import tensorflow as tf\n",
    "tf.config.experimental.list_physical_devices('GPU')"
   ]
  },
  {
   "cell_type": "code",
   "execution_count": 175,
   "metadata": {
    "execution": {
     "iopub.execute_input": "2021-11-17T15:39:43.418029Z",
     "iopub.status.busy": "2021-11-17T15:39:43.417609Z",
     "iopub.status.idle": "2021-11-17T15:39:44.147018Z",
     "shell.execute_reply": "2021-11-17T15:39:44.146336Z",
     "shell.execute_reply.started": "2021-11-17T15:39:43.417990Z"
    }
   },
   "outputs": [],
   "source": [
    "dataset = tf.data.Dataset.from_tensor_slices((xids, xmask, labels))\n",
    "dataset.take(1)"
   ]
  },
  {
   "cell_type": "code",
   "execution_count": 176,
   "metadata": {
    "execution": {
     "iopub.execute_input": "2021-11-17T15:39:48.698712Z",
     "iopub.status.busy": "2021-11-17T15:39:48.697925Z",
     "iopub.status.idle": "2021-11-17T15:39:48.703221Z",
     "shell.execute_reply": "2021-11-17T15:39:48.702316Z",
     "shell.execute_reply.started": "2021-11-17T15:39:48.698662Z"
    }
   },
   "outputs": [],
   "source": [
    "def map_fn(input_ids, masks, labels):\n",
    "    return {'input_ids': input_ids, 'attention_mask': masks}, labels"
   ]
  },
  {
   "cell_type": "code",
   "execution_count": 177,
   "metadata": {
    "execution": {
     "iopub.execute_input": "2021-11-17T15:39:50.824610Z",
     "iopub.status.busy": "2021-11-17T15:39:50.824174Z",
     "iopub.status.idle": "2021-11-17T15:39:50.840348Z",
     "shell.execute_reply": "2021-11-17T15:39:50.839549Z",
     "shell.execute_reply.started": "2021-11-17T15:39:50.824571Z"
    }
   },
   "outputs": [],
   "source": [
    "dataset = dataset.map(map_fn)\n",
    "dataset.take(1)"
   ]
  },
  {
   "cell_type": "code",
   "execution_count": 178,
   "metadata": {
    "execution": {
     "iopub.execute_input": "2021-11-17T15:40:01.111925Z",
     "iopub.status.busy": "2021-11-17T15:40:01.111330Z",
     "iopub.status.idle": "2021-11-17T15:40:01.122929Z",
     "shell.execute_reply": "2021-11-17T15:40:01.121718Z",
     "shell.execute_reply.started": "2021-11-17T15:40:01.111883Z"
    }
   },
   "outputs": [],
   "source": [
    "batch_size = 16\n",
    "dataset = dataset.shuffle(100000).batch(batch_size, drop_remainder = True)\n",
    "dataset.take(1)"
   ]
  },
  {
   "cell_type": "code",
   "execution_count": 179,
   "metadata": {
    "execution": {
     "iopub.execute_input": "2021-11-17T15:40:08.001601Z",
     "iopub.status.busy": "2021-11-17T15:40:08.001325Z",
     "iopub.status.idle": "2021-11-17T15:40:09.966112Z",
     "shell.execute_reply": "2021-11-17T15:40:09.965377Z",
     "shell.execute_reply.started": "2021-11-17T15:40:08.001569Z"
    }
   },
   "outputs": [],
   "source": [
    "DS_LEN = len(list(dataset))\n",
    "DS_LEN"
   ]
  },
  {
   "cell_type": "code",
   "execution_count": 180,
   "metadata": {
    "execution": {
     "iopub.execute_input": "2021-11-17T15:40:14.749173Z",
     "iopub.status.busy": "2021-11-17T15:40:14.748639Z",
     "iopub.status.idle": "2021-11-17T15:40:14.753435Z",
     "shell.execute_reply": "2021-11-17T15:40:14.752591Z",
     "shell.execute_reply.started": "2021-11-17T15:40:14.749137Z"
    }
   },
   "outputs": [],
   "source": [
    "split = 0.9"
   ]
  },
  {
   "cell_type": "code",
   "execution_count": 212,
   "metadata": {
    "execution": {
     "iopub.execute_input": "2021-11-17T17:18:35.116453Z",
     "iopub.status.busy": "2021-11-17T17:18:35.116191Z",
     "iopub.status.idle": "2021-11-17T17:18:35.121756Z",
     "shell.execute_reply": "2021-11-17T17:18:35.121046Z",
     "shell.execute_reply.started": "2021-11-17T17:18:35.116423Z"
    }
   },
   "outputs": [],
   "source": [
    "# Here we'll be dividing the train and test in 9:1\n",
    "train = dataset.take(round(DS_LEN * split))\n",
    "test_ds = dataset.skip(round(DS_LEN * split))"
   ]
  },
  {
   "cell_type": "code",
   "execution_count": 213,
   "metadata": {
    "execution": {
     "iopub.execute_input": "2021-11-17T17:20:12.350989Z",
     "iopub.status.busy": "2021-11-17T17:20:12.350328Z",
     "iopub.status.idle": "2021-11-17T17:20:14.254528Z",
     "shell.execute_reply": "2021-11-17T17:20:14.253768Z",
     "shell.execute_reply.started": "2021-11-17T17:20:12.350951Z"
    }
   },
   "outputs": [],
   "source": [
    "# We'll further be dividing the train set in train and validation set in 9:1\n",
    "train_size = len(list(train))\n",
    "train_ds = train.take(round(train_size * split))\n",
    "val_ds = train.skip(round(train_size * split))"
   ]
  },
  {
   "cell_type": "code",
   "execution_count": 214,
   "metadata": {
    "execution": {
     "iopub.execute_input": "2021-11-17T17:20:25.627213Z",
     "iopub.status.busy": "2021-11-17T17:20:25.626955Z",
     "iopub.status.idle": "2021-11-17T17:20:25.634670Z",
     "shell.execute_reply": "2021-11-17T17:20:25.633729Z",
     "shell.execute_reply.started": "2021-11-17T17:20:25.627185Z"
    }
   },
   "outputs": [],
   "source": [
    "test_ds.take(1)"
   ]
  },
  {
   "cell_type": "code",
   "execution_count": 215,
   "metadata": {
    "execution": {
     "iopub.execute_input": "2021-11-17T17:20:36.311813Z",
     "iopub.status.busy": "2021-11-17T17:20:36.311537Z",
     "iopub.status.idle": "2021-11-17T17:20:36.319897Z",
     "shell.execute_reply": "2021-11-17T17:20:36.319009Z",
     "shell.execute_reply.started": "2021-11-17T17:20:36.311782Z"
    }
   },
   "outputs": [],
   "source": [
    "train_ds.take(1)"
   ]
  },
  {
   "cell_type": "code",
   "execution_count": 216,
   "metadata": {
    "execution": {
     "iopub.execute_input": "2021-11-17T17:20:50.169058Z",
     "iopub.status.busy": "2021-11-17T17:20:50.168740Z",
     "iopub.status.idle": "2021-11-17T17:20:50.177384Z",
     "shell.execute_reply": "2021-11-17T17:20:50.176402Z",
     "shell.execute_reply.started": "2021-11-17T17:20:50.169023Z"
    }
   },
   "outputs": [],
   "source": [
    "val_ds.take(1)"
   ]
  },
  {
   "cell_type": "markdown",
   "metadata": {},
   "source": [
    "**Step 3: Build and Train our Model**"
   ]
  },
  {
   "cell_type": "code",
   "execution_count": 217,
   "metadata": {
    "execution": {
     "iopub.execute_input": "2021-11-17T17:20:58.697191Z",
     "iopub.status.busy": "2021-11-17T17:20:58.696531Z",
     "iopub.status.idle": "2021-11-17T17:21:01.542289Z",
     "shell.execute_reply": "2021-11-17T17:21:01.541515Z",
     "shell.execute_reply.started": "2021-11-17T17:20:58.697153Z"
    }
   },
   "outputs": [],
   "source": [
    "from transformers import TFAutoModel\n",
    "bert = TFAutoModel.from_pretrained('bert-base-cased')\n",
    "bert.summary()"
   ]
  },
  {
   "cell_type": "code",
   "execution_count": 218,
   "metadata": {
    "execution": {
     "iopub.execute_input": "2021-11-17T17:21:01.544238Z",
     "iopub.status.busy": "2021-11-17T17:21:01.543966Z",
     "iopub.status.idle": "2021-11-17T17:21:03.140329Z",
     "shell.execute_reply": "2021-11-17T17:21:03.139626Z",
     "shell.execute_reply.started": "2021-11-17T17:21:01.544199Z"
    }
   },
   "outputs": [],
   "source": [
    "# Two inputs\n",
    "input_ids = tf.keras.layers.Input(shape = (SEQ_LEN,), name = 'input_ids', dtype = 'int32')\n",
    "mask = tf.keras.layers.Input(shape = (SEQ_LEN,), name = 'attention_mask', dtype = 'int32')\n",
    "\n",
    "#Transformer\n",
    "embeddings = bert.bert(input_ids, attention_mask = mask)[0]\n",
    "\n",
    "#classifier head\n",
    "# x = tf.keras.layers.Dense(1024, activation = 'relu')(embeddings)\n",
    "# y = tf.keras.layers.Dense(2, activation = 'softmax', name = 'outputs')(x)\n",
    "\n",
    "X = tf.keras.layers.LSTM(64)(embeddings)\n",
    "X = tf.keras.layers.BatchNormalization()(X)\n",
    "X = tf.keras.layers.Dense(64, activation='relu')(X)\n",
    "X = tf.keras.layers.Dropout(0.1)(X)\n",
    "y = tf.keras.layers.Dense(2, activation = 'softmax', name = 'outputs')(X)\n",
    "\n",
    "model = tf.keras.Model(inputs = [input_ids, mask], outputs = y)\n",
    "model.summary()"
   ]
  },
  {
   "cell_type": "code",
   "execution_count": 219,
   "metadata": {
    "execution": {
     "iopub.execute_input": "2021-11-17T17:21:06.465309Z",
     "iopub.status.busy": "2021-11-17T17:21:06.464975Z",
     "iopub.status.idle": "2021-11-17T17:21:06.505761Z",
     "shell.execute_reply": "2021-11-17T17:21:06.500178Z",
     "shell.execute_reply.started": "2021-11-17T17:21:06.465267Z"
    }
   },
   "outputs": [],
   "source": [
    "model.layers[2].trainable = False\n",
    "model.summary()"
   ]
  },
  {
   "cell_type": "code",
   "execution_count": 224,
   "metadata": {
    "execution": {
     "iopub.execute_input": "2021-11-17T18:19:45.692063Z",
     "iopub.status.busy": "2021-11-17T18:19:45.691831Z",
     "iopub.status.idle": "2021-11-17T18:19:46.954596Z",
     "shell.execute_reply": "2021-11-17T18:19:46.953440Z",
     "shell.execute_reply.started": "2021-11-17T18:19:45.692033Z"
    }
   },
   "outputs": [],
   "source": [
    "tf.keras.utils.plot_model(model, show_shapes=True)"
   ]
  },
  {
   "cell_type": "code",
   "execution_count": 220,
   "metadata": {
    "execution": {
     "iopub.execute_input": "2021-11-17T17:21:12.697441Z",
     "iopub.status.busy": "2021-11-17T17:21:12.697181Z",
     "iopub.status.idle": "2021-11-17T17:21:12.714397Z",
     "shell.execute_reply": "2021-11-17T17:21:12.713740Z",
     "shell.execute_reply.started": "2021-11-17T17:21:12.697412Z"
    }
   },
   "outputs": [],
   "source": [
    "optimizer = tf.keras.optimizers.Adam(learning_rate = 0.01)\n",
    "loss = tf.keras.losses.CategoricalCrossentropy()\n",
    "acc = tf.keras.metrics.CategoricalAccuracy('accuracy')\n",
    "\n",
    "model.compile(optimizer = optimizer, loss = loss, metrics = [acc])"
   ]
  },
  {
   "cell_type": "code",
   "execution_count": 221,
   "metadata": {
    "execution": {
     "iopub.execute_input": "2021-11-17T17:21:28.855300Z",
     "iopub.status.busy": "2021-11-17T17:21:28.855044Z",
     "iopub.status.idle": "2021-11-17T18:19:11.743388Z",
     "shell.execute_reply": "2021-11-17T18:19:11.742662Z",
     "shell.execute_reply.started": "2021-11-17T17:21:28.855271Z"
    }
   },
   "outputs": [],
   "source": [
    "history = model.fit(\n",
    "    train_ds,\n",
    "    validation_data = val_ds,\n",
    "    epochs = 3\n",
    ")"
   ]
  },
  {
   "cell_type": "code",
   "execution_count": 222,
   "metadata": {
    "execution": {
     "iopub.execute_input": "2021-11-17T18:19:11.747074Z",
     "iopub.status.busy": "2021-11-17T18:19:11.746841Z",
     "iopub.status.idle": "2021-11-17T18:19:45.678927Z",
     "shell.execute_reply": "2021-11-17T18:19:45.678137Z",
     "shell.execute_reply.started": "2021-11-17T18:19:11.747044Z"
    }
   },
   "outputs": [],
   "source": [
    "model.save('../working/sentiment_model_imdb')"
   ]
  },
  {
   "cell_type": "code",
   "execution_count": 223,
   "metadata": {
    "execution": {
     "iopub.execute_input": "2021-11-17T18:19:45.682801Z",
     "iopub.status.busy": "2021-11-17T18:19:45.682328Z",
     "iopub.status.idle": "2021-11-17T18:19:45.688830Z",
     "shell.execute_reply": "2021-11-17T18:19:45.687763Z",
     "shell.execute_reply.started": "2021-11-17T18:19:45.682769Z"
    }
   },
   "outputs": [],
   "source": [
    "history.history"
   ]
  },
  {
   "cell_type": "code",
   "execution_count": 226,
   "metadata": {
    "execution": {
     "iopub.execute_input": "2021-11-17T18:23:24.431436Z",
     "iopub.status.busy": "2021-11-17T18:23:24.430784Z",
     "iopub.status.idle": "2021-11-17T18:25:46.910085Z",
     "shell.execute_reply": "2021-11-17T18:25:46.909319Z",
     "shell.execute_reply.started": "2021-11-17T18:23:24.431392Z"
    }
   },
   "outputs": [],
   "source": [
    "test_loss, test_accuracy = model.evaluate(test_ds)\n",
    "test_loss, test_accuracy"
   ]
  },
  {
   "cell_type": "markdown",
   "metadata": {},
   "source": [
    "Test Model on Examples"
   ]
  },
  {
   "cell_type": "code",
   "execution_count": 227,
   "metadata": {
    "execution": {
     "iopub.execute_input": "2021-11-17T18:25:46.912468Z",
     "iopub.status.busy": "2021-11-17T18:25:46.912143Z",
     "iopub.status.idle": "2021-11-17T18:25:46.919927Z",
     "shell.execute_reply": "2021-11-17T18:25:46.919085Z",
     "shell.execute_reply.started": "2021-11-17T18:25:46.912418Z"
    }
   },
   "outputs": [],
   "source": [
    "import tensorflow as tf\n",
    "from transformers import AutoTokenizer\n",
    "import numpy as np\n",
    "\n",
    "tokenizer = AutoTokenizer.from_pretrained('bert-base-cased')\n",
    "model = tf.keras.models.load_model('sentiment_model_imdb')\n",
    "\n",
    "code_to_category = {\n",
    "    0: \"positive\",\n",
    "    1: \"negative\"\n",
    "}\n",
    "def pred_text(model, text, max_length = 512):\n",
    "    tokens = tokenizer.encode_plus(text, max_length = max_length, \n",
    "                               truncation = True, padding = 'max_length', \n",
    "                               add_special_tokens = True, return_token_type_ids = False, \n",
    "                               return_attention_mask = True, return_tensors = 'tf')\n",
    "    probs = model.predict({\n",
    "        'input_ids': tf.cast(tokens['input_ids'], tf.float64),\n",
    "        'attention_mask': tf.cast(tokens['attention_mask'], tf.float64)\n",
    "    })\n",
    "    \n",
    "    pred = np.argmax(probs[0])\n",
    "    \n",
    "    prediction = code_to_category[pred]\n",
    "    confidence = probs[0][pred]\n",
    "    \n",
    "    return prediction, confidence"
   ]
  },
  {
   "cell_type": "code",
   "execution_count": 229,
   "metadata": {
    "execution": {
     "iopub.execute_input": "2021-11-17T18:25:52.741194Z",
     "iopub.status.busy": "2021-11-17T18:25:52.740899Z",
     "iopub.status.idle": "2021-11-17T18:25:55.714458Z",
     "shell.execute_reply": "2021-11-17T18:25:55.713773Z",
     "shell.execute_reply.started": "2021-11-17T18:25:52.741163Z"
    }
   },
   "outputs": [],
   "source": [
    "text = \"This movie was amazingly brilliant.\"\n",
    "pred_text(model, text)"
   ]
  },
  {
   "cell_type": "code",
   "execution_count": 230,
   "metadata": {
    "execution": {
     "iopub.execute_input": "2021-11-17T18:26:45.871702Z",
     "iopub.status.busy": "2021-11-17T18:26:45.870851Z",
     "iopub.status.idle": "2021-11-17T18:26:46.002119Z",
     "shell.execute_reply": "2021-11-17T18:26:46.001421Z",
     "shell.execute_reply.started": "2021-11-17T18:26:45.871658Z"
    }
   },
   "outputs": [],
   "source": [
    "text = \"This movie was amazingly awful.\"\n",
    "pred_text(model, text)"
   ]
  },
  {
   "cell_type": "code",
   "execution_count": 231,
   "metadata": {
    "execution": {
     "iopub.execute_input": "2021-11-17T18:27:17.210994Z",
     "iopub.status.busy": "2021-11-17T18:27:17.210711Z",
     "iopub.status.idle": "2021-11-17T18:27:17.357861Z",
     "shell.execute_reply": "2021-11-17T18:27:17.357065Z",
     "shell.execute_reply.started": "2021-11-17T18:27:17.210963Z"
    }
   },
   "outputs": [],
   "source": [
    "text = \"Maybe they should try to get a better cast next time.\"\n",
    "pred_text(model, text)"
   ]
  },
  {
   "cell_type": "code",
   "execution_count": 232,
   "metadata": {
    "execution": {
     "iopub.execute_input": "2021-11-17T18:29:09.525363Z",
     "iopub.status.busy": "2021-11-17T18:29:09.524830Z",
     "iopub.status.idle": "2021-11-17T18:29:09.627661Z",
     "shell.execute_reply": "2021-11-17T18:29:09.626997Z",
     "shell.execute_reply.started": "2021-11-17T18:29:09.525319Z"
    }
   },
   "outputs": [],
   "source": [
    "text = \"Movie sucks!!\"\n",
    "pred_text(model, text)"
   ]
  },
  {
   "cell_type": "code",
   "execution_count": 235,
   "metadata": {
    "execution": {
     "iopub.execute_input": "2021-11-17T18:30:00.110913Z",
     "iopub.status.busy": "2021-11-17T18:30:00.110644Z",
     "iopub.status.idle": "2021-11-17T18:30:00.238081Z",
     "shell.execute_reply": "2021-11-17T18:30:00.237328Z",
     "shell.execute_reply.started": "2021-11-17T18:30:00.110883Z"
    }
   },
   "outputs": [],
   "source": [
    "text = \"Movie rocks!!\"\n",
    "pred_text(model, text)"
   ]
  },
  {
   "cell_type": "code",
   "execution_count": 236,
   "metadata": {
    "execution": {
     "iopub.execute_input": "2021-11-17T18:30:38.106152Z",
     "iopub.status.busy": "2021-11-17T18:30:38.105872Z",
     "iopub.status.idle": "2021-11-17T18:30:38.207396Z",
     "shell.execute_reply": "2021-11-17T18:30:38.206716Z",
     "shell.execute_reply.started": "2021-11-17T18:30:38.106123Z"
    }
   },
   "outputs": [],
   "source": [
    "text = \"Only the first half of the movie was enjoyable\"\n",
    "pred_text(model, text)"
   ]
  },
  {
   "cell_type": "code",
   "execution_count": 240,
   "metadata": {
    "execution": {
     "iopub.execute_input": "2021-11-17T18:32:08.409224Z",
     "iopub.status.busy": "2021-11-17T18:32:08.408654Z",
     "iopub.status.idle": "2021-11-17T18:32:08.507985Z",
     "shell.execute_reply": "2021-11-17T18:32:08.507330Z",
     "shell.execute_reply.started": "2021-11-17T18:32:08.409187Z"
    }
   },
   "outputs": [],
   "source": [
    "text = \"They could have spent the money better helping people\"\n",
    "pred_text(model, text)"
   ]
  },
  {
   "cell_type": "code",
   "execution_count": 242,
   "metadata": {
    "execution": {
     "iopub.execute_input": "2021-11-17T18:34:16.063067Z",
     "iopub.status.busy": "2021-11-17T18:34:16.062349Z",
     "iopub.status.idle": "2021-11-17T18:34:38.354672Z",
     "shell.execute_reply": "2021-11-17T18:34:38.353877Z",
     "shell.execute_reply.started": "2021-11-17T18:34:16.063027Z"
    }
   },
   "outputs": [],
   "source": [
    "import shutil\n",
    "shutil.make_archive('../working/sentiment_model_imdb', 'zip', '../working/sentiment_model_imdb')"
   ]
  },
  {
   "cell_type": "code",
   "execution_count": 244,
   "metadata": {
    "execution": {
     "iopub.execute_input": "2021-11-17T18:48:39.066303Z",
     "iopub.status.busy": "2021-11-17T18:48:39.065693Z",
     "iopub.status.idle": "2021-11-17T18:48:39.071199Z",
     "shell.execute_reply": "2021-11-17T18:48:39.070554Z",
     "shell.execute_reply.started": "2021-11-17T18:48:39.066264Z"
    }
   },
   "outputs": [],
   "source": [
    "from IPython.display import FileLink\n",
    "FileLink(r'sentiment_model_imdb.zip')"
   ]
  }
 ],
 "metadata": {
  "kernelspec": {
   "display_name": "Python 3",
   "language": "python",
   "name": "python3"
  },
  "language_info": {
   "codemirror_mode": {
    "name": "ipython",
    "version": 3
   },
   "file_extension": ".py",
   "mimetype": "text/x-python",
   "name": "python",
   "nbconvert_exporter": "python",
   "pygments_lexer": "ipython3",
   "version": "3.8.3"
  }
 },
 "nbformat": 4,
 "nbformat_minor": 4
}
